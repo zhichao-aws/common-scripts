{
 "cells": [
  {
   "cell_type": "code",
   "execution_count": null,
   "id": "f4d89914",
   "metadata": {},
   "outputs": [],
   "source": [
    "import yaml\n",
    "\n",
    "from create_instances import create_instances\n",
    "from prepare_env import prepare_env\n",
    "from prepare_env_released import prepare_env_released\n",
    "from set_configs import set_configs\n",
    "from start_cluster import start_cluster\n",
    "with open('configs.yaml', 'r') as file:\n",
    "    configs = yaml.safe_load(file)"
   ]
  },
  {
   "cell_type": "code",
   "execution_count": null,
   "id": "53d31d6f",
   "metadata": {},
   "outputs": [],
   "source": [
    "!cat configs.yaml"
   ]
  },
  {
   "cell_type": "code",
   "execution_count": null,
   "id": "99064509",
   "metadata": {},
   "outputs": [],
   "source": [
    "create_instances(configs)"
   ]
  },
  {
   "cell_type": "code",
   "execution_count": null,
   "id": "10ce7214",
   "metadata": {},
   "outputs": [],
   "source": [
    "import time\n",
    "time.sleep(30)"
   ]
  },
  {
   "cell_type": "code",
   "execution_count": null,
   "id": "b6c1c108",
   "metadata": {},
   "outputs": [],
   "source": [
    "await prepare_env_released(configs)"
   ]
  },
  {
   "cell_type": "code",
   "execution_count": null,
   "id": "1ef8a329",
   "metadata": {},
   "outputs": [],
   "source": [
    "await set_configs(configs)"
   ]
  },
  {
   "cell_type": "code",
   "execution_count": null,
   "id": "3e90e390",
   "metadata": {},
   "outputs": [],
   "source": [
    "await start_cluster(configs)"
   ]
  },
  {
   "cell_type": "code",
   "execution_count": null,
   "id": "8ddb6478",
   "metadata": {},
   "outputs": [],
   "source": []
  }
 ],
 "metadata": {
  "kernelspec": {
   "display_name": "Python 3 (ipykernel)",
   "language": "python",
   "name": "python3"
  },
  "language_info": {
   "codemirror_mode": {
    "name": "ipython",
    "version": 3
   },
   "file_extension": ".py",
   "mimetype": "text/x-python",
   "name": "python",
   "nbconvert_exporter": "python",
   "pygments_lexer": "ipython3",
   "version": "3.10.9"
  }
 },
 "nbformat": 4,
 "nbformat_minor": 5
}
